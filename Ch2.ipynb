{
 "cells": [
  {
   "cell_type": "markdown",
   "id": "474647e5-e3e9-4c81-8b26-36ca4569cc0f",
   "metadata": {},
   "source": [
    "# Chapter 2: Forward Pricing\n",
    "forward price = current price + cost of buying now - benefits of buying now"
   ]
  },
  {
   "cell_type": "code",
   "execution_count": 1,
   "id": "5b417d1d-209a-4a12-b6f2-ab45853bf96f",
   "metadata": {},
   "outputs": [],
   "source": [
    "import numpy as np"
   ]
  },
  {
   "cell_type": "markdown",
   "id": "dafb125e-8bb5-43ea-a53e-7a09b7e98907",
   "metadata": {},
   "source": [
    "## Commodities \n",
    "<ls>\n",
    "<li>C = commodity price</li>\n",
    "<li>t = time to maturity of the forward contract</li>\n",
    "<li>r = intrest rate</li>\n",
    "<li>s = annual storage costs per commodity unit</li>\n",
    "<li>i = annual insurance costs per commodity unit</li>\n",
    "</ls>\n",
    "F = C * (1+r * t) + (s*t) + (i*t)"
   ]
  },
  {
   "cell_type": "code",
   "execution_count": 8,
   "id": "b2592765-258e-4048-a617-d36ae1299795",
   "metadata": {},
   "outputs": [],
   "source": [
    "# example\n",
    "# C = (F-(s+i)*t)/ (1+r*t)\n",
    "forward_price = 77.4\n",
    "intrest_rate = .08\n",
    "annual_storage_cost = 3\n",
    "annual_insurance_cost = .6\n",
    "t = 3/12\n"
   ]
  },
  {
   "cell_type": "code",
   "execution_count": 9,
   "id": "a83b83ab-2d75-4f37-b34a-7839e2bbccc1",
   "metadata": {},
   "outputs": [
    {
     "data": {
      "text/plain": [
       "75.0"
      ]
     },
     "execution_count": 9,
     "metadata": {},
     "output_type": "execute_result"
    }
   ],
   "source": [
    "(forward_price - (annual_storage_cost + annual_insurance_cost)* t)/(1+intrest_rate * t)"
   ]
  },
  {
   "cell_type": "code",
   "execution_count": 10,
   "id": "eea3e30c-1d37-43d8-b1ed-07125cfe1ec7",
   "metadata": {},
   "outputs": [],
   "source": [
    "def commodity_price(C,t,r,s,i):\n",
    "    return C * (1+r*t) + (s*t) + (i*t)"
   ]
  },
  {
   "cell_type": "code",
   "execution_count": 11,
   "id": "4b0362d4-a29e-4413-9945-81ca5228e8be",
   "metadata": {},
   "outputs": [
    {
     "data": {
      "text/plain": [
       "77.4"
      ]
     },
     "execution_count": 11,
     "metadata": {},
     "output_type": "execute_result"
    }
   ],
   "source": [
    "commodity_price(75,t,intrest_rate,annual_insurance_cost,annual_storage_cost)"
   ]
  },
  {
   "cell_type": "code",
   "execution_count": 12,
   "id": "ad9ce0ec-dc3a-4968-81af-4320e8579693",
   "metadata": {},
   "outputs": [
    {
     "data": {
      "text/plain": [
       "True"
      ]
     },
     "execution_count": 12,
     "metadata": {},
     "output_type": "execute_result"
    }
   ],
   "source": [
    "commodity_price(75,t,intrest_rate,annual_insurance_cost,annual_storage_cost) == forward_price"
   ]
  },
  {
   "cell_type": "markdown",
   "id": "f105f194-be86-46a0-9606-722bf113d019",
   "metadata": {},
   "source": [
    "## Stocks\n",
    "<ls>\n",
    "<li>S = stock price</li>\n",
    "<li>t = time to maturity of the forward contract</li>\n",
    "<li>r = intrest rate</li>\n",
    "<li>di = each dividend payment</li>\n",
    "<li>ti = time remaining to aturity after each dividend</li>\n",
    "<li>ri = the intrest rate from each dividend payment</li>\n",
    "</ls>\n",
    "with intrest for div:\n",
    "\n",
    "F = S *(1+r*t) - sum(di * (1+ri*ti))\n",
    "\n",
    "\n",
    "without intrest for div:\n",
    "F = [S * (1+r*t)] - D"
   ]
  },
  {
   "cell_type": "code",
   "execution_count": 14,
   "id": "4c14b33f-a98e-4b6b-9efc-73badf7101f0",
   "metadata": {},
   "outputs": [
    {
     "data": {
      "text/plain": [
       "69.00627750000001"
      ]
     },
     "execution_count": 14,
     "metadata": {},
     "output_type": "execute_result"
    }
   ],
   "source": [
    "# example\n",
    "S = 67\n",
    "t = 8/12\n",
    "r = .06\n",
    "di = .33\n",
    "t1 = 7/12\n",
    "t2 = t-t1\n",
    "r1 = .062\n",
    "r2 = .065\n",
    "\n",
    "67 * (1+r*t) - (di * (1+r1*t1) + di*(1+r2*t2)) "
   ]
  },
  {
   "cell_type": "code",
   "execution_count": null,
   "id": "f98cbe18-dbab-4b3a-ae49-7a6f5e2be65d",
   "metadata": {},
   "outputs": [],
   "source": []
  },
  {
   "cell_type": "code",
   "execution_count": 20,
   "id": "a0e7e3fb-4326-4d3c-9a62-5f73ca70f997",
   "metadata": {},
   "outputs": [
    {
     "data": {
      "text/plain": [
       "69.00627750000001"
      ]
     },
     "execution_count": 20,
     "metadata": {},
     "output_type": "execute_result"
    }
   ],
   "source": [
    "67 * (1+r*t) - np.array([di,di]) @ (1+(np.array([t1,t2]) * np.array([r1,r2])))"
   ]
  },
  {
   "cell_type": "code",
   "execution_count": 21,
   "id": "747d7bb0-6b8c-4a2c-8f05-b5bd41ef8ddf",
   "metadata": {},
   "outputs": [],
   "source": [
    "def stock_forward_price(s,T,R,d,t,r):\n",
    "    return s * (1+R*T) - d @ (1+(t * r))"
   ]
  },
  {
   "cell_type": "code",
   "execution_count": 22,
   "id": "f32689bd-d22b-4b42-aeb4-e05ac90314b2",
   "metadata": {},
   "outputs": [
    {
     "data": {
      "text/plain": [
       "69.00627750000001"
      ]
     },
     "execution_count": 22,
     "metadata": {},
     "output_type": "execute_result"
    }
   ],
   "source": [
    "stock_forward_price(S,t,r,np.array([di,di]), np.array([t1,t2]),np.array([r1,r2]))"
   ]
  },
  {
   "cell_type": "code",
   "execution_count": 23,
   "id": "85e56c62-414d-44ac-8fb9-3ede677eaa17",
   "metadata": {},
   "outputs": [],
   "source": [
    "def stock_forward_price_no_div_r(s,T,R,D):\n",
    "    return  (s*(1+R*T)) - D"
   ]
  },
  {
   "cell_type": "code",
   "execution_count": 25,
   "id": "bab9663a-1d2c-4c09-b12f-1a7803c23afa",
   "metadata": {},
   "outputs": [
    {
     "data": {
      "text/plain": [
       "69.02000000000001"
      ]
     },
     "execution_count": 25,
     "metadata": {},
     "output_type": "execute_result"
    }
   ],
   "source": [
    "stock_forward_price_no_div_r(S,t,r,di*2)"
   ]
  },
  {
   "cell_type": "markdown",
   "id": "04718c11-a2aa-4296-8bf2-dab8a8c53319",
   "metadata": {},
   "source": [
    "## Bonds\n",
    "<ls>\n",
    "<li>B = bond price</li>\n",
    "<li>t = time to maturity of the forward contract</li>\n",
    "<li>r = intrest rate</li>\n",
    "<li>ci = each coupon payment</li>\n",
    "<li>ti = time remaining to aturity after each coupon</li>\n",
    "<li>ri = the intrest rate from each coupon payment</li>\n",
    "</ls>\n",
    "F = B + (B*r*t)- sum(c*(1+r*t))\n"
   ]
  },
  {
   "cell_type": "code",
   "execution_count": 31,
   "id": "b90660aa-2ebe-48d6-b1d6-5c5998ea9d55",
   "metadata": {},
   "outputs": [
    {
     "data": {
      "text/plain": [
       "106.21595833333333"
      ]
     },
     "execution_count": 31,
     "metadata": {},
     "output_type": "execute_result"
    }
   ],
   "source": [
    "#example\n",
    "B = 109.76\n",
    "t = 10/12\n",
    "r = .08\n",
    "ci = 5.25\n",
    "t1 = 8/12\n",
    "t2 = 2/12\n",
    "r1 = .082\n",
    "r2 = .085\n",
    "\n",
    "(B*(1+r*t)) - (ci*(1+r1*t1)) - (ci*(1+r2*t2))"
   ]
  },
  {
   "cell_type": "code",
   "execution_count": 36,
   "id": "dbcf918a-ffdc-48b6-9651-a522f5f2bae2",
   "metadata": {},
   "outputs": [],
   "source": [
    "#same as stock with dividen except replace div with coupon\n",
    "def bond_forward_price(b,T,R,c,t,r):\n",
    "    return b * (1+R*T) - c @ (1+(t * r))"
   ]
  },
  {
   "cell_type": "code",
   "execution_count": 37,
   "id": "ebf04e4c-10b4-4a0b-bac5-a6b8e23a53c5",
   "metadata": {},
   "outputs": [
    {
     "data": {
      "text/plain": [
       "106.21595833333335"
      ]
     },
     "execution_count": 37,
     "metadata": {},
     "output_type": "execute_result"
    }
   ],
   "source": [
    "bond_forward_price(B,t,r,np.array([ci,ci]), np.array([t1,t2]),np.array([r1,r2]))"
   ]
  },
  {
   "cell_type": "markdown",
   "id": "69b92dec-8f70-4648-99d9-52f6c8f88f3b",
   "metadata": {},
   "source": [
    "## Foreign Currencies\n",
    "cd = domestic currency\n",
    "\n",
    "cf = foreighn currency\n",
    "\n",
    "S = cd/cf\n",
    "\n",
    "F = S * (1+rd*t)/(1+rf*t)"
   ]
  },
  {
   "cell_type": "code",
   "execution_count": 39,
   "id": "6b4ae87b-4a6e-47dd-b8d4-bff6dc85aa9b",
   "metadata": {},
   "outputs": [
    {
     "data": {
      "text/plain": [
       "1.5147058823529411"
      ]
     },
     "execution_count": 39,
     "metadata": {},
     "output_type": "execute_result"
    }
   ],
   "source": [
    "rd = .06\n",
    "rf = .04\n",
    "t = 6/12\n",
    "\n",
    "S = rd/rf\n",
    "S*((1+rd*t)/(1+rf*t))"
   ]
  },
  {
   "cell_type": "markdown",
   "id": "a9708528-c17a-488b-a673-b69aec715c28",
   "metadata": {},
   "source": [
    "## Arbitrage\n",
    "\"riskless profit\"\n"
   ]
  },
  {
   "cell_type": "code",
   "execution_count": 42,
   "id": "5384299e-861c-4c92-9f25-c10725a23cb5",
   "metadata": {},
   "outputs": [],
   "source": [
    "# example\n",
    "# diffrence in forward contract price from computation then on market\n",
    "market = 69.5\n",
    "s = 67\n",
    "t = 8/12\n",
    "r = .06\n",
    "d = .66\n",
    "f_price = stock_forward_price_no_div_r(s,t,r,d)"
   ]
  },
  {
   "cell_type": "code",
   "execution_count": 43,
   "id": "7991d466-df4c-4a45-9c22-fa923d192b05",
   "metadata": {},
   "outputs": [
    {
     "data": {
      "text/plain": [
       "0.47999999999998977"
      ]
     },
     "execution_count": 43,
     "metadata": {},
     "output_type": "execute_result"
    }
   ],
   "source": [
    "# sell at 69.5 and buy stock for 67\n",
    "market - f_price"
   ]
  },
  {
   "cell_type": "markdown",
   "id": "a18c651f-97fc-4229-9fcd-136fe4d9f1e2",
   "metadata": {},
   "source": [
    "## implied info\n",
    "- implied stock\n",
    "    - spot price\n",
    "    - intrest rate\n",
    "    - dividend\n",
    "- implied bond"
   ]
  },
  {
   "cell_type": "code",
   "execution_count": 46,
   "id": "8918923e-9fb7-4993-8ad2-9018e6369b63",
   "metadata": {},
   "outputs": [],
   "source": [
    "# spot price imp\n",
    "_s = (market+d)/(1+r*t)"
   ]
  },
  {
   "cell_type": "code",
   "execution_count": 47,
   "id": "1f879d3c-9dd9-45f4-a4d6-f56c21cb4987",
   "metadata": {},
   "outputs": [
    {
     "data": {
      "text/plain": [
       "67.46153846153845"
      ]
     },
     "execution_count": 47,
     "metadata": {},
     "output_type": "execute_result"
    }
   ],
   "source": [
    "_s"
   ]
  },
  {
   "cell_type": "code",
   "execution_count": 48,
   "id": "169696e5-40cf-4c32-9ccc-3dcaa761f0a6",
   "metadata": {},
   "outputs": [],
   "source": [
    "# imp intrest rate\n",
    "_r = (((market + d)/s) - 1)/t"
   ]
  },
  {
   "cell_type": "code",
   "execution_count": 49,
   "id": "b281affd-3028-4491-a902-9af75657c43f",
   "metadata": {},
   "outputs": [
    {
     "data": {
      "text/plain": [
       "0.07074626865671618"
      ]
     },
     "execution_count": 49,
     "metadata": {},
     "output_type": "execute_result"
    }
   ],
   "source": [
    "_r"
   ]
  },
  {
   "cell_type": "code",
   "execution_count": 51,
   "id": "a6ed8f57-6464-4a22-abb3-e0e27e461c23",
   "metadata": {},
   "outputs": [],
   "source": [
    "# imp div\n",
    "_d = ((s*(1+r*t))-market)"
   ]
  },
  {
   "cell_type": "code",
   "execution_count": 52,
   "id": "2ce5b516-db26-403b-a6f0-4934603000d3",
   "metadata": {},
   "outputs": [
    {
     "data": {
      "text/plain": [
       "0.18000000000000682"
      ]
     },
     "execution_count": 52,
     "metadata": {},
     "output_type": "execute_result"
    }
   ],
   "source": [
    "_d"
   ]
  },
  {
   "cell_type": "code",
   "execution_count": 53,
   "id": "88588bb8-cfe8-49cb-b257-ca809ab95156",
   "metadata": {},
   "outputs": [],
   "source": [
    "# imp bond\n",
    "_b = (B+ci)/(1+r*t)"
   ]
  },
  {
   "cell_type": "code",
   "execution_count": 54,
   "id": "40d88d7f-21bc-4a88-a1fa-32dbcc536ccb",
   "metadata": {},
   "outputs": [
    {
     "data": {
      "text/plain": [
       "110.58653846153847"
      ]
     },
     "execution_count": 54,
     "metadata": {},
     "output_type": "execute_result"
    }
   ],
   "source": [
    "_b"
   ]
  },
  {
   "cell_type": "code",
   "execution_count": null,
   "id": "3ea84918-a94d-46c5-b148-9b3a8d7b7952",
   "metadata": {},
   "outputs": [],
   "source": []
  }
 ],
 "metadata": {
  "kernelspec": {
   "display_name": "Python 3 (ipykernel)",
   "language": "python",
   "name": "python3"
  },
  "language_info": {
   "codemirror_mode": {
    "name": "ipython",
    "version": 3
   },
   "file_extension": ".py",
   "mimetype": "text/x-python",
   "name": "python",
   "nbconvert_exporter": "python",
   "pygments_lexer": "ipython3",
   "version": "3.10.12"
  }
 },
 "nbformat": 4,
 "nbformat_minor": 5
}
