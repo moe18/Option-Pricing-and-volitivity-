{
 "cells": [
  {
   "cell_type": "markdown",
   "id": "e53a4b8f-3081-484a-9dbb-3991b1f377f9",
   "metadata": {},
   "source": [
    "# Theoretical Pricing Models\n",
    "what price should the option be trading at?"
   ]
  },
  {
   "cell_type": "code",
   "execution_count": 2,
   "id": "88a8e6d5-7225-4a58-a8ed-81cc95c74b60",
   "metadata": {},
   "outputs": [],
   "source": [
    "import numpy as np\n",
    "import matplotlib.pyplot as plt"
   ]
  },
  {
   "cell_type": "code",
   "execution_count": 69,
   "id": "dc48102e-376b-4c3a-a93c-c68b1506383e",
   "metadata": {},
   "outputs": [],
   "source": [
    "# take in multiple option orderes\n",
    "class optionGraph:\n",
    "    \"\"\"A class for representing and plotting option graphs.\"\"\"\n",
    "    def __init__(self):\n",
    "        \"\"\"\n",
    "        Initializes the optionGrapgh object.\n",
    "\n",
    "        Attributes:\n",
    "          option_type: The type of option, either `call` or `put`.\n",
    "          amount: The number of options.\n",
    "          exercise_price: The exercise price of the option.\n",
    "          slope: The slope of the option graph.\n",
    "          price_range_max: The maximum price range of the option graph.\n",
    "          price_range_min: The minimum price range of the option graph.\n",
    "          multi_options_pos: A dictionary containing the positions of multiple option graphs in a multi-option plot. This attribute is only used in the `multi_option()` method.\n",
    "        \"\"\"\n",
    "        self.option_type = ''\n",
    "        self.amount = None\n",
    "        self.exercise_price = None\n",
    "        self.slope = None\n",
    "        self.price_range_max = None\n",
    "        self.price_range_min = None  \n",
    "        self.contract_price = None\n",
    "        self.multi_options_pos = None\n",
    "        self.prob_dist = None\n",
    "\n",
    "    def get_slope(self):\n",
    "        \"\"\"\n",
    "        Calculates the slope of the option graph.\n",
    "\n",
    "        Returns:\n",
    "          A numpy array containing the slope of the option graph.\n",
    "        \"\"\"\n",
    "        \n",
    "        y = None\n",
    "        if self.option_type == 'call': \n",
    "            x = np.arange(self.price_range_min-5, self.price_range_max+5)\n",
    "            y =np.where(x>self.exercise_price,1,0)\n",
    "            y = (np.cumsum(y) * self.amount) - (self.contract_price * self.amount)\n",
    "        elif self.option_type== 'put':\n",
    "            x = np.arange(self.price_range_min-5, self.price_range_max+5)\n",
    "            y =np.where(x<self.exercise_price,1,0)\n",
    "            y = (np.cumsum(y[::-1])[::-1] * self.amount) - (self.contract_price * self.amount)\n",
    "            \n",
    "\n",
    "            \n",
    "        self.slope = y\n",
    "        return y\n",
    "\n",
    "    def plot_option(self):\n",
    "        x = np.arange(self.price_range_min-5, self.price_range_max+5)\n",
    "        plt.plot(x,self.slope)\n",
    "        plt.axhline(y=0, color='red', linestyle='dotted')\n",
    "        plt.bar(x, self.prob_dist, color='blue')\n",
    "        plt.show()\n",
    "\n",
    "    def expected_option_value(self):\n",
    "        return self.prob_dist @ self.slope.T\n",
    "\n",
    "    def multi_option(self):\n",
    "        \"\"\"\n",
    "        Plots multiple option graphs on the same plot.\n",
    "\n",
    "        The `multi_options_pos` attribute must be set before calling this method.\n",
    "        The `multi_options_pos` attribute is a dictionary containing the positions of multiple option graphs in a multi-option plot.\n",
    "        The dictionary should have the following keys:\n",
    "\n",
    "        * `exercise_price`: A list of exercise prices for the option graphs.\n",
    "        * `amount`: A list of amounts for the option graphs.\n",
    "        * `option_type`: A list of option types for the option graphs.\n",
    "\n",
    "        \"\"\"\n",
    "        self.price_range_max = max(self.multi_options_pos['exercise_price'])\n",
    "        self.price_range_min = min(self.multi_options_pos['exercise_price'])\n",
    "        slops = []\n",
    "        for i in range(len(self.multi_options_pos['amount'])):\n",
    "            self.amount = self.multi_options_pos['amount'][i]\n",
    "            self.exercise_price = self.multi_options_pos['exercise_price'][i]\n",
    "            self.option_type = self.multi_options_pos['option_type'][i]\n",
    "            self.contract_price = self.multi_options_pos['contract_price'][i]\n",
    "            slops.append(self.get_slope())\n",
    "        if self.prob_dist:\n",
    "            self.prob_dist = self.prob_dist\n",
    "        else:\n",
    "            x = np.arange(self.price_range_min-5, self.price_range_max+5)\n",
    "            distribution = np.random.uniform(0, 1, len(x))\n",
    "            self.prob_dist = distribution\n",
    "        self.slope = sum(slops)\n",
    "        self.plot_option()\n",
    "            \n",
    "\n",
    "    \n"
   ]
  },
  {
   "cell_type": "code",
   "execution_count": 76,
   "id": "da6cf829-0568-4226-9213-821733e73042",
   "metadata": {},
   "outputs": [],
   "source": [
    "a = optionGraph()\n",
    "a.multi_options_pos = {'amount':[1,-1],'exercise_price':[65,70],\n",
    "                       'option_type':['call','call'],\n",
    "                      'contract_price':[.75,.25]}"
   ]
  },
  {
   "cell_type": "code",
   "execution_count": 77,
   "id": "7cdfb426-9567-4b6c-9744-c99d818264d4",
   "metadata": {},
   "outputs": [
    {
     "data": {
      "image/png": "[encoded data removed]",
      "text/plain": [
       "<Figure size 640x480 with 1 Axes>"
      ]
     },
     "metadata": {},
     "output_type": "display_data"
    }
   ],
   "source": [
    "a.multi_option()"
   ]
  },
  {
   "cell_type": "code",
   "execution_count": 75,
   "id": "4bb13c6a-c8eb-46e6-8552-14f82c573454",
   "metadata": {},
   "outputs": [
    {
     "data": {
      "text/plain": [
       "16.046218516495763"
      ]
     },
     "execution_count": 75,
     "metadata": {},
     "output_type": "execute_result"
    }
   ],
   "source": [
    "a.expected_option_value()"
   ]
  },
  {
   "cell_type": "markdown",
   "id": "9ff749a1-c760-4aa5-8886-8043d5cd1530",
   "metadata": {},
   "source": [
    "## Black Scholes overview\n",
    "- black scholes is an option pricing model looking at a few diffrent inputs\n",
    "  - Exercise price\n",
    "  - time to experation\n",
    "  - underlying price\n",
    "  - Intrest rate\n",
    "  - Volatitity\n",
    "- you could also make a model using ML might do that as a side project"
   ]
  },
  {
   "cell_type": "code",
   "execution_count": 79,
   "id": "6ddb65a3-3da9-495e-aef1-8f1700e1a1e1",
   "metadata": {},
   "outputs": [
    {
     "name": "stdout",
     "output_type": "stream",
     "text": [
      "Defaulting to user installation because normal site-packages is not writeable\n",
      "Collecting scipy\n",
      "  Downloading scipy-1.11.3-cp310-cp310-manylinux_2_17_x86_64.manylinux2014_x86_64.whl (36.4 MB)\n",
      "\u001b[2K     \u001b[90m━━━━━━━━━━━━━━━━━━━━━━━━━━━━━━━━━━━━━━━━\u001b[0m \u001b[32m36.4/36.4 MB\u001b[0m \u001b[31m12.3 MB/s\u001b[0m eta \u001b[36m0:00:00\u001b[0m00:01\u001b[0m00:01\u001b[0m\n",
      "\u001b[?25hRequirement already satisfied: numpy<1.28.0,>=1.21.6 in /home/moe18/.local/lib/python3.10/site-packages (from scipy) (1.24.1)\n",
      "Installing collected packages: scipy\n",
      "Successfully installed scipy-1.11.3\n"
     ]
    }
   ],
   "source": [
    "!pip install scipy"
   ]
  },
  {
   "cell_type": "code",
   "execution_count": 82,
   "id": "86eb92be-d02a-400e-9265-bff72c05f8da",
   "metadata": {
    "scrolled": true
   },
   "outputs": [],
   "source": [
    "import scipy.stats as stats\n",
    "x=[1,2,3,4,5]\n",
    "# Calculate the cdf of a normal distribution with mean 0 and standard deviation 1\n",
    "# over the range [-10, 10]\n",
    "cdf = stats.norm.cdf(x, loc=0, scale=1)"
   ]
  },
  {
   "cell_type": "code",
   "execution_count": 83,
   "id": "53f74961-f6b8-4fcb-8a44-65962eca68b6",
   "metadata": {},
   "outputs": [
    {
     "data": {
      "text/plain": [
       "array([0.84134475, 0.97724987, 0.9986501 , 0.99996833, 0.99999971])"
      ]
     },
     "execution_count": 83,
     "metadata": {},
     "output_type": "execute_result"
    }
   ],
   "source": [
    "cdf"
   ]
  },
  {
   "cell_type": "code",
   "execution_count": null,
   "id": "80c211c5-7306-4d11-92c8-202fae898f4f",
   "metadata": {},
   "outputs": [],
   "source": []
  }
 ],
 "metadata": {
  "kernelspec": {
   "display_name": "Python 3 (ipykernel)",
   "language": "python",
   "name": "python3"
  },
  "language_info": {
   "codemirror_mode": {
    "name": "ipython",
    "version": 3
   },
   "file_extension": ".py",
   "mimetype": "text/x-python",
   "name": "python",
   "nbconvert_exporter": "python",
   "pygments_lexer": "ipython3",
   "version": "3.10.12"
  }
 },
 "nbformat": 4,
 "nbformat_minor": 5
}
